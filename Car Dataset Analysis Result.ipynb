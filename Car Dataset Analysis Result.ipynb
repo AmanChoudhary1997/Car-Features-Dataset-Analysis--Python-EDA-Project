{
 "cells": [
  {
   "cell_type": "markdown",
   "id": "f8864d1f",
   "metadata": {},
   "source": [
    "# Car Data Analysis"
   ]
  },
  {
   "cell_type": "markdown",
   "id": "99618bc5",
   "metadata": {},
   "source": [
    " The owner of a car showroom handles a variety of car types and models. This dataset\n",
    " includes a range of features for each car, corresponding to the models present in the\n",
    " showroom. The price of each car is determined by its unique attributes. Our objective is to\n",
    " examine these various car features and understand how they influence the car's pricing."
   ]
  },
  {
   "cell_type": "markdown",
   "id": "cb83d4bc",
   "metadata": {},
   "source": [
    "### Perform EDA on the given dataset."
   ]
  },
  {
   "cell_type": "markdown",
   "id": "a3aa3ddb",
   "metadata": {},
   "source": [
    "Import Important Libraries for Analysis"
   ]
  },
  {
   "cell_type": "code",
   "execution_count": 3,
   "id": "9ac7c033",
   "metadata": {},
   "outputs": [],
   "source": [
    "import pandas as pd\n",
    "import numpy as np\n",
    "import matplotlib.pyplot as plt\n",
    "import seaborn as sns"
   ]
  },
  {
   "cell_type": "markdown",
   "id": "5fc231c1",
   "metadata": {},
   "source": [
    "Read the CSV File"
   ]
  },
  {
   "cell_type": "code",
   "execution_count": 4,
   "id": "e7eb5d68",
   "metadata": {},
   "outputs": [],
   "source": [
    "car = pd.read_csv('CarFeatures (1).csv')"
   ]
  },
  {
   "cell_type": "code",
   "execution_count": 5,
   "id": "9df8206e",
   "metadata": {},
   "outputs": [
    {
     "data": {
      "text/html": [
       "<div>\n",
       "<style scoped>\n",
       "    .dataframe tbody tr th:only-of-type {\n",
       "        vertical-align: middle;\n",
       "    }\n",
       "\n",
       "    .dataframe tbody tr th {\n",
       "        vertical-align: top;\n",
       "    }\n",
       "\n",
       "    .dataframe thead th {\n",
       "        text-align: right;\n",
       "    }\n",
       "</style>\n",
       "<table border=\"1\" class=\"dataframe\">\n",
       "  <thead>\n",
       "    <tr style=\"text-align: right;\">\n",
       "      <th></th>\n",
       "      <th>Make</th>\n",
       "      <th>Fuel Type</th>\n",
       "      <th>Aspiration</th>\n",
       "      <th>Number of Doors</th>\n",
       "      <th>Body Style</th>\n",
       "      <th>Drive Wheels</th>\n",
       "      <th>Engine Location</th>\n",
       "      <th>Number of Cylinders</th>\n",
       "      <th>Wheel Base</th>\n",
       "      <th>Length</th>\n",
       "      <th>Width</th>\n",
       "      <th>Height</th>\n",
       "      <th>Curb Weight</th>\n",
       "      <th>Engine Size</th>\n",
       "      <th>Horsepower</th>\n",
       "      <th>City MPG</th>\n",
       "      <th>Highway MPG</th>\n",
       "      <th>Price</th>\n",
       "    </tr>\n",
       "  </thead>\n",
       "  <tbody>\n",
       "    <tr>\n",
       "      <th>0</th>\n",
       "      <td>Toyota</td>\n",
       "      <td>Diesel</td>\n",
       "      <td>Std</td>\n",
       "      <td>Two</td>\n",
       "      <td>Convertible</td>\n",
       "      <td>Fwd</td>\n",
       "      <td>Front</td>\n",
       "      <td>Twelve</td>\n",
       "      <td>95.1</td>\n",
       "      <td>175.9</td>\n",
       "      <td>60.6</td>\n",
       "      <td>59.4</td>\n",
       "      <td>1758</td>\n",
       "      <td>252</td>\n",
       "      <td>279</td>\n",
       "      <td>40</td>\n",
       "      <td>41</td>\n",
       "      <td>5272</td>\n",
       "    </tr>\n",
       "    <tr>\n",
       "      <th>1</th>\n",
       "      <td>Mitsubishi</td>\n",
       "      <td>Diesel</td>\n",
       "      <td>Std</td>\n",
       "      <td>Four</td>\n",
       "      <td>Convertible</td>\n",
       "      <td>Fwd</td>\n",
       "      <td>Rear</td>\n",
       "      <td>Four</td>\n",
       "      <td>91.7</td>\n",
       "      <td>153.9</td>\n",
       "      <td>60.5</td>\n",
       "      <td>55.1</td>\n",
       "      <td>1887</td>\n",
       "      <td>95</td>\n",
       "      <td>150</td>\n",
       "      <td>32</td>\n",
       "      <td>42</td>\n",
       "      <td>31393</td>\n",
       "    </tr>\n",
       "    <tr>\n",
       "      <th>2</th>\n",
       "      <td>Chevrolet</td>\n",
       "      <td>Gas</td>\n",
       "      <td>Turbo</td>\n",
       "      <td>Four</td>\n",
       "      <td>Hatchback</td>\n",
       "      <td>Rwd</td>\n",
       "      <td>Front</td>\n",
       "      <td>Two</td>\n",
       "      <td>116.2</td>\n",
       "      <td>203.5</td>\n",
       "      <td>65.3</td>\n",
       "      <td>58.5</td>\n",
       "      <td>3815</td>\n",
       "      <td>231</td>\n",
       "      <td>129</td>\n",
       "      <td>13</td>\n",
       "      <td>41</td>\n",
       "      <td>40450</td>\n",
       "    </tr>\n",
       "    <tr>\n",
       "      <th>3</th>\n",
       "      <td>Mitsubishi</td>\n",
       "      <td>Gas</td>\n",
       "      <td>Turbo</td>\n",
       "      <td>Four</td>\n",
       "      <td>Hatchback</td>\n",
       "      <td>Fwd</td>\n",
       "      <td>Front</td>\n",
       "      <td>Three</td>\n",
       "      <td>112.8</td>\n",
       "      <td>154.3</td>\n",
       "      <td>64.9</td>\n",
       "      <td>51.4</td>\n",
       "      <td>3367</td>\n",
       "      <td>106</td>\n",
       "      <td>230</td>\n",
       "      <td>39</td>\n",
       "      <td>21</td>\n",
       "      <td>37881</td>\n",
       "    </tr>\n",
       "    <tr>\n",
       "      <th>4</th>\n",
       "      <td>Mercedes</td>\n",
       "      <td>Gas</td>\n",
       "      <td>Std</td>\n",
       "      <td>Four</td>\n",
       "      <td>Sedan</td>\n",
       "      <td>Rwd</td>\n",
       "      <td>Rear</td>\n",
       "      <td>Two</td>\n",
       "      <td>115.1</td>\n",
       "      <td>143.4</td>\n",
       "      <td>62.6</td>\n",
       "      <td>49.6</td>\n",
       "      <td>3433</td>\n",
       "      <td>294</td>\n",
       "      <td>96</td>\n",
       "      <td>46</td>\n",
       "      <td>52</td>\n",
       "      <td>18087</td>\n",
       "    </tr>\n",
       "  </tbody>\n",
       "</table>\n",
       "</div>"
      ],
      "text/plain": [
       "         Make Fuel Type Aspiration Number of Doors   Body Style Drive Wheels  \\\n",
       "0      Toyota    Diesel        Std             Two  Convertible          Fwd   \n",
       "1  Mitsubishi    Diesel        Std            Four  Convertible          Fwd   \n",
       "2   Chevrolet       Gas      Turbo            Four    Hatchback          Rwd   \n",
       "3  Mitsubishi       Gas      Turbo            Four    Hatchback          Fwd   \n",
       "4    Mercedes       Gas        Std            Four        Sedan          Rwd   \n",
       "\n",
       "  Engine Location Number of Cylinders  Wheel Base  Length  Width  Height  \\\n",
       "0           Front              Twelve        95.1   175.9   60.6    59.4   \n",
       "1            Rear                Four        91.7   153.9   60.5    55.1   \n",
       "2           Front                 Two       116.2   203.5   65.3    58.5   \n",
       "3           Front               Three       112.8   154.3   64.9    51.4   \n",
       "4            Rear                 Two       115.1   143.4   62.6    49.6   \n",
       "\n",
       "   Curb Weight  Engine Size  Horsepower  City MPG  Highway MPG  Price  \n",
       "0         1758          252         279        40           41   5272  \n",
       "1         1887           95         150        32           42  31393  \n",
       "2         3815          231         129        13           41  40450  \n",
       "3         3367          106         230        39           21  37881  \n",
       "4         3433          294          96        46           52  18087  "
      ]
     },
     "execution_count": 5,
     "metadata": {},
     "output_type": "execute_result"
    }
   ],
   "source": [
    "car.head()"
   ]
  },
  {
   "cell_type": "code",
   "execution_count": 6,
   "id": "7fe443c0",
   "metadata": {},
   "outputs": [
    {
     "data": {
      "text/plain": [
       "Make                   0\n",
       "Fuel Type              0\n",
       "Aspiration             0\n",
       "Number of Doors        0\n",
       "Body Style             0\n",
       "Drive Wheels           0\n",
       "Engine Location        0\n",
       "Number of Cylinders    0\n",
       "Wheel Base             0\n",
       "Length                 0\n",
       "Width                  0\n",
       "Height                 0\n",
       "Curb Weight            0\n",
       "Engine Size            0\n",
       "Horsepower             0\n",
       "City MPG               0\n",
       "Highway MPG            0\n",
       "Price                  0\n",
       "dtype: int64"
      ]
     },
     "execution_count": 6,
     "metadata": {},
     "output_type": "execute_result"
    }
   ],
   "source": [
    "#checking null values\n",
    "car.isnull().sum()"
   ]
  },
  {
   "cell_type": "code",
   "execution_count": 7,
   "id": "ca4c6d0b",
   "metadata": {},
   "outputs": [
    {
     "data": {
      "text/plain": [
       "(25, 18)"
      ]
     },
     "execution_count": 7,
     "metadata": {},
     "output_type": "execute_result"
    }
   ],
   "source": [
    "car.shape"
   ]
  },
  {
   "cell_type": "markdown",
   "id": "b751cee5",
   "metadata": {},
   "source": [
    "   "
   ]
  },
  {
   "cell_type": "markdown",
   "id": "98f7bb2c",
   "metadata": {},
   "source": [
    "1. .Summarize the data using descriptive statistics"
   ]
  },
  {
   "cell_type": "code",
   "execution_count": 8,
   "id": "5900187b",
   "metadata": {},
   "outputs": [
    {
     "data": {
      "text/html": [
       "<div>\n",
       "<style scoped>\n",
       "    .dataframe tbody tr th:only-of-type {\n",
       "        vertical-align: middle;\n",
       "    }\n",
       "\n",
       "    .dataframe tbody tr th {\n",
       "        vertical-align: top;\n",
       "    }\n",
       "\n",
       "    .dataframe thead th {\n",
       "        text-align: right;\n",
       "    }\n",
       "</style>\n",
       "<table border=\"1\" class=\"dataframe\">\n",
       "  <thead>\n",
       "    <tr style=\"text-align: right;\">\n",
       "      <th></th>\n",
       "      <th>Wheel Base</th>\n",
       "      <th>Length</th>\n",
       "      <th>Width</th>\n",
       "      <th>Height</th>\n",
       "      <th>Curb Weight</th>\n",
       "      <th>Engine Size</th>\n",
       "      <th>Horsepower</th>\n",
       "      <th>City MPG</th>\n",
       "      <th>Highway MPG</th>\n",
       "      <th>Price</th>\n",
       "    </tr>\n",
       "  </thead>\n",
       "  <tbody>\n",
       "    <tr>\n",
       "      <th>count</th>\n",
       "      <td>25.000000</td>\n",
       "      <td>25.000000</td>\n",
       "      <td>25.000000</td>\n",
       "      <td>25.000000</td>\n",
       "      <td>25.000000</td>\n",
       "      <td>25.000000</td>\n",
       "      <td>25.000000</td>\n",
       "      <td>25.000000</td>\n",
       "      <td>25.000000</td>\n",
       "      <td>25.000000</td>\n",
       "    </tr>\n",
       "    <tr>\n",
       "      <th>mean</th>\n",
       "      <td>105.736000</td>\n",
       "      <td>173.928000</td>\n",
       "      <td>65.868000</td>\n",
       "      <td>52.680000</td>\n",
       "      <td>2907.720000</td>\n",
       "      <td>192.360000</td>\n",
       "      <td>168.760000</td>\n",
       "      <td>29.720000</td>\n",
       "      <td>37.640000</td>\n",
       "      <td>22684.920000</td>\n",
       "    </tr>\n",
       "    <tr>\n",
       "      <th>std</th>\n",
       "      <td>9.046403</td>\n",
       "      <td>18.508523</td>\n",
       "      <td>3.632804</td>\n",
       "      <td>3.623534</td>\n",
       "      <td>777.650924</td>\n",
       "      <td>79.342548</td>\n",
       "      <td>73.189981</td>\n",
       "      <td>10.659581</td>\n",
       "      <td>10.664896</td>\n",
       "      <td>10684.205266</td>\n",
       "    </tr>\n",
       "    <tr>\n",
       "      <th>min</th>\n",
       "      <td>91.700000</td>\n",
       "      <td>143.400000</td>\n",
       "      <td>60.500000</td>\n",
       "      <td>47.800000</td>\n",
       "      <td>1488.000000</td>\n",
       "      <td>79.000000</td>\n",
       "      <td>50.000000</td>\n",
       "      <td>13.000000</td>\n",
       "      <td>16.000000</td>\n",
       "      <td>5272.000000</td>\n",
       "    </tr>\n",
       "    <tr>\n",
       "      <th>25%</th>\n",
       "      <td>96.000000</td>\n",
       "      <td>161.400000</td>\n",
       "      <td>62.500000</td>\n",
       "      <td>50.000000</td>\n",
       "      <td>2108.000000</td>\n",
       "      <td>106.000000</td>\n",
       "      <td>100.000000</td>\n",
       "      <td>24.000000</td>\n",
       "      <td>30.000000</td>\n",
       "      <td>14838.000000</td>\n",
       "    </tr>\n",
       "    <tr>\n",
       "      <th>50%</th>\n",
       "      <td>106.800000</td>\n",
       "      <td>172.400000</td>\n",
       "      <td>66.300000</td>\n",
       "      <td>51.800000</td>\n",
       "      <td>3231.000000</td>\n",
       "      <td>199.000000</td>\n",
       "      <td>168.000000</td>\n",
       "      <td>29.000000</td>\n",
       "      <td>41.000000</td>\n",
       "      <td>18524.000000</td>\n",
       "    </tr>\n",
       "    <tr>\n",
       "      <th>75%</th>\n",
       "      <td>113.900000</td>\n",
       "      <td>187.800000</td>\n",
       "      <td>68.500000</td>\n",
       "      <td>55.100000</td>\n",
       "      <td>3433.000000</td>\n",
       "      <td>252.000000</td>\n",
       "      <td>231.000000</td>\n",
       "      <td>38.000000</td>\n",
       "      <td>45.000000</td>\n",
       "      <td>31393.000000</td>\n",
       "    </tr>\n",
       "    <tr>\n",
       "      <th>max</th>\n",
       "      <td>119.600000</td>\n",
       "      <td>207.600000</td>\n",
       "      <td>71.500000</td>\n",
       "      <td>59.800000</td>\n",
       "      <td>3922.000000</td>\n",
       "      <td>319.000000</td>\n",
       "      <td>288.000000</td>\n",
       "      <td>49.000000</td>\n",
       "      <td>53.000000</td>\n",
       "      <td>40466.000000</td>\n",
       "    </tr>\n",
       "  </tbody>\n",
       "</table>\n",
       "</div>"
      ],
      "text/plain": [
       "       Wheel Base      Length      Width     Height  Curb Weight  Engine Size  \\\n",
       "count   25.000000   25.000000  25.000000  25.000000    25.000000    25.000000   \n",
       "mean   105.736000  173.928000  65.868000  52.680000  2907.720000   192.360000   \n",
       "std      9.046403   18.508523   3.632804   3.623534   777.650924    79.342548   \n",
       "min     91.700000  143.400000  60.500000  47.800000  1488.000000    79.000000   \n",
       "25%     96.000000  161.400000  62.500000  50.000000  2108.000000   106.000000   \n",
       "50%    106.800000  172.400000  66.300000  51.800000  3231.000000   199.000000   \n",
       "75%    113.900000  187.800000  68.500000  55.100000  3433.000000   252.000000   \n",
       "max    119.600000  207.600000  71.500000  59.800000  3922.000000   319.000000   \n",
       "\n",
       "       Horsepower   City MPG  Highway MPG         Price  \n",
       "count   25.000000  25.000000    25.000000     25.000000  \n",
       "mean   168.760000  29.720000    37.640000  22684.920000  \n",
       "std     73.189981  10.659581    10.664896  10684.205266  \n",
       "min     50.000000  13.000000    16.000000   5272.000000  \n",
       "25%    100.000000  24.000000    30.000000  14838.000000  \n",
       "50%    168.000000  29.000000    41.000000  18524.000000  \n",
       "75%    231.000000  38.000000    45.000000  31393.000000  \n",
       "max    288.000000  49.000000    53.000000  40466.000000  "
      ]
     },
     "execution_count": 8,
     "metadata": {},
     "output_type": "execute_result"
    }
   ],
   "source": [
    "car.describe()"
   ]
  },
  {
   "cell_type": "code",
   "execution_count": 53,
   "id": "f5f68408",
   "metadata": {},
   "outputs": [
    {
     "data": {
      "image/png": "[encoded data removed]",
      "text/plain": [
       "<Figure size 1000x600 with 1 Axes>"
      ]
     },
     "metadata": {},
     "output_type": "display_data"
    }
   ],
   "source": [
    "# Distribution of car prices\n",
    "plt.figure(figsize=(10, 6))\n",
    "sns.histplot(car['Price'], kde=True, color='blue')\n",
    "plt.title('Distribution of Car Prices')\n",
    "plt.xlabel('Price ($)')\n",
    "plt.ylabel('Frequency')\n",
    "plt.show()"
   ]
  },
  {
   "cell_type": "markdown",
   "id": "26f4b81b",
   "metadata": {},
   "source": [
    "  "
   ]
  },
  {
   "cell_type": "markdown",
   "id": "b2913e3d",
   "metadata": {},
   "source": [
    "2. Identify the costliest car and the cheapest car by average price."
   ]
  },
  {
   "cell_type": "code",
   "execution_count": 9,
   "id": "bfd05e23",
   "metadata": {},
   "outputs": [
    {
     "data": {
      "text/html": [
       "<div>\n",
       "<style scoped>\n",
       "    .dataframe tbody tr th:only-of-type {\n",
       "        vertical-align: middle;\n",
       "    }\n",
       "\n",
       "    .dataframe tbody tr th {\n",
       "        vertical-align: top;\n",
       "    }\n",
       "\n",
       "    .dataframe thead th {\n",
       "        text-align: right;\n",
       "    }\n",
       "</style>\n",
       "<table border=\"1\" class=\"dataframe\">\n",
       "  <thead>\n",
       "    <tr style=\"text-align: right;\">\n",
       "      <th></th>\n",
       "      <th>Make</th>\n",
       "      <th>Price</th>\n",
       "    </tr>\n",
       "  </thead>\n",
       "  <tbody>\n",
       "    <tr>\n",
       "      <th>0</th>\n",
       "      <td>Audi</td>\n",
       "      <td>27944.333333</td>\n",
       "    </tr>\n",
       "    <tr>\n",
       "      <th>1</th>\n",
       "      <td>BMW</td>\n",
       "      <td>20076.750000</td>\n",
       "    </tr>\n",
       "    <tr>\n",
       "      <th>2</th>\n",
       "      <td>Chevrolet</td>\n",
       "      <td>40450.000000</td>\n",
       "    </tr>\n",
       "    <tr>\n",
       "      <th>3</th>\n",
       "      <td>Ford</td>\n",
       "      <td>8246.500000</td>\n",
       "    </tr>\n",
       "    <tr>\n",
       "      <th>4</th>\n",
       "      <td>Honda</td>\n",
       "      <td>14109.000000</td>\n",
       "    </tr>\n",
       "    <tr>\n",
       "      <th>5</th>\n",
       "      <td>Mazda</td>\n",
       "      <td>18685.666667</td>\n",
       "    </tr>\n",
       "    <tr>\n",
       "      <th>6</th>\n",
       "      <td>Mercedes</td>\n",
       "      <td>22832.000000</td>\n",
       "    </tr>\n",
       "    <tr>\n",
       "      <th>7</th>\n",
       "      <td>Mitsubishi</td>\n",
       "      <td>30456.666667</td>\n",
       "    </tr>\n",
       "    <tr>\n",
       "      <th>8</th>\n",
       "      <td>Nissan</td>\n",
       "      <td>14838.000000</td>\n",
       "    </tr>\n",
       "    <tr>\n",
       "      <th>9</th>\n",
       "      <td>Toyota</td>\n",
       "      <td>25292.500000</td>\n",
       "    </tr>\n",
       "  </tbody>\n",
       "</table>\n",
       "</div>"
      ],
      "text/plain": [
       "         Make         Price\n",
       "0        Audi  27944.333333\n",
       "1         BMW  20076.750000\n",
       "2   Chevrolet  40450.000000\n",
       "3        Ford   8246.500000\n",
       "4       Honda  14109.000000\n",
       "5       Mazda  18685.666667\n",
       "6    Mercedes  22832.000000\n",
       "7  Mitsubishi  30456.666667\n",
       "8      Nissan  14838.000000\n",
       "9      Toyota  25292.500000"
      ]
     },
     "execution_count": 9,
     "metadata": {},
     "output_type": "execute_result"
    }
   ],
   "source": [
    "#Group by make and calculate the average price\n",
    "Grouped_car_avg_price = car.groupby('Make')['Price'].mean().reset_index()\n",
    "Grouped_car_avg_price"
   ]
  },
  {
   "cell_type": "code",
   "execution_count": 72,
   "id": "55c50bc3",
   "metadata": {},
   "outputs": [
    {
     "data": {
      "image/png": "[encoded data removed]",
      "text/plain": [
       "<Figure size 1200x600 with 1 Axes>"
      ]
     },
     "metadata": {},
     "output_type": "display_data"
    }
   ],
   "source": [
    "# Bar plot for average price by car make\n",
    "plt.figure(figsize=(12, 6))\n",
    "sns.barplot(x='Make', y='Price', data=Grouped_car_avg_price, palette='viridis')\n",
    "plt.title('Average Price by Car Make')\n",
    "plt.xlabel('Car Make')\n",
    "plt.ylabel('Average Price ($)')\n",
    "plt.xticks(rotation=45)\n",
    "plt.show()"
   ]
  },
  {
   "cell_type": "code",
   "execution_count": 10,
   "id": "fc511b7a",
   "metadata": {},
   "outputs": [
    {
     "name": "stdout",
     "output_type": "stream",
     "text": [
      "Make     Chevrolet\n",
      "Price      40450.0\n",
      "Name: 2, dtype: object\n"
     ]
    }
   ],
   "source": [
    "#Costliet Car\n",
    "Costliest_car_avg_price = Grouped_car_avg_price.loc[Grouped_car_avg_price['Price'].idxmax()]\n",
    "print(Costliest_car_avg_price)"
   ]
  },
  {
   "cell_type": "code",
   "execution_count": 11,
   "id": "0f54b4f5",
   "metadata": {},
   "outputs": [
    {
     "name": "stdout",
     "output_type": "stream",
     "text": [
      "Make       Ford\n",
      "Price    8246.5\n",
      "Name: 3, dtype: object\n"
     ]
    }
   ],
   "source": [
    "#Cheapest Car\n",
    "Cheapest_car_avg_price = Grouped_car_avg_price.loc[Grouped_car_avg_price['Price'].idxmin()]\n",
    "print(Cheapest_car_avg_price)"
   ]
  },
  {
   "cell_type": "markdown",
   "id": "0852facc",
   "metadata": {},
   "source": [
    "  "
   ]
  },
  {
   "cell_type": "markdown",
   "id": "87ce615a",
   "metadata": {},
   "source": [
    "3. Which fuel type car has the highest average price?"
   ]
  },
  {
   "cell_type": "code",
   "execution_count": 12,
   "id": "97b586bd",
   "metadata": {},
   "outputs": [
    {
     "name": "stdout",
     "output_type": "stream",
     "text": [
      "  Fuel Type         Price\n",
      "0    Diesel  20199.416667\n",
      "1       Gas  24979.230769\n"
     ]
    }
   ],
   "source": [
    "#Grouping the fuel type according to their avg price\n",
    "grouped_fuel_type_avg_price = car.groupby('Fuel Type')['Price'].mean().reset_index()\n",
    "print(grouped_fuel_type_avg_price)"
   ]
  },
  {
   "cell_type": "code",
   "execution_count": 13,
   "id": "61c4f2f8",
   "metadata": {
    "scrolled": true
   },
   "outputs": [
    {
     "name": "stdout",
     "output_type": "stream",
     "text": [
      "Fuel Type             Gas\n",
      "Price        24979.230769\n",
      "Name: 1, dtype: object\n"
     ]
    }
   ],
   "source": [
    "# Highest avg price of fule type\n",
    "highest_avg_fuel_type = grouped_fuel_type_avg_price.loc[grouped_fuel_type_avg_price['Price'].idxmax()]\n",
    "print(highest_avg_fuel_type)"
   ]
  },
  {
   "cell_type": "markdown",
   "id": "a9e6fcf2",
   "metadata": {},
   "source": [
    "  "
   ]
  },
  {
   "cell_type": "markdown",
   "id": "1c776d15",
   "metadata": {},
   "source": [
    "4. For the given dataset, construct the following contingency table (take “make” as row\n",
    " variable)"
   ]
  },
  {
   "cell_type": "code",
   "execution_count": 14,
   "id": "3ab2d3fc",
   "metadata": {},
   "outputs": [
    {
     "name": "stdout",
     "output_type": "stream",
     "text": [
      "Fuel Type   Diesel  Gas\n",
      "Make                   \n",
      "Audi             2    1\n",
      "BMW              4    0\n",
      "Chevrolet        0    1\n",
      "Ford             0    2\n",
      "Honda            0    1\n",
      "Mazda            2    1\n",
      "Mercedes         1    2\n",
      "Mitsubishi       1    2\n",
      "Nissan           0    1\n",
      "Toyota           2    2\n"
     ]
    }
   ],
   "source": [
    "contingency_table = pd.crosstab(car['Make'], car['Fuel Type'])\n",
    "print(contingency_table)"
   ]
  },
  {
   "cell_type": "code",
   "execution_count": 15,
   "id": "df965d7a",
   "metadata": {},
   "outputs": [
    {
     "data": {
      "image/png": "[encoded data removed]",
      "text/plain": [
       "<Figure size 640x480 with 1 Axes>"
      ]
     },
     "metadata": {},
     "output_type": "display_data"
    }
   ],
   "source": [
    "contingency_table.plot(kind='bar', stacked=True)\n",
    "plt.xlabel('Make')\n",
    "plt.ylabel('Count')\n",
    "plt.title('Fuel Types Distribution across Car Makes')\n",
    "plt.legend(title='Fuel Type')\n",
    "plt.xticks(rotation=45, ha='right')\n",
    "plt.tight_layout()\n",
    "plt.show()"
   ]
  },
  {
   "cell_type": "markdown",
   "id": "fef4b22c",
   "metadata": {},
   "source": [
    " "
   ]
  },
  {
   "cell_type": "markdown",
   "id": "7d6ea81d",
   "metadata": {},
   "source": [
    "5. What is the probability that a randomly selected car will be a BMW?"
   ]
  },
  {
   "cell_type": "code",
   "execution_count": 16,
   "id": "5629b471",
   "metadata": {},
   "outputs": [],
   "source": [
    "#Total no. of cars\n",
    "total_cars = car.shape[0]"
   ]
  },
  {
   "cell_type": "code",
   "execution_count": 17,
   "id": "f246561f",
   "metadata": {},
   "outputs": [],
   "source": [
    "#Filter the total no. of BMW cars\n",
    "bmw_cars = car[car['Make'] == 'BMW'].shape[0]"
   ]
  },
  {
   "cell_type": "code",
   "execution_count": 18,
   "id": "2012f02a",
   "metadata": {},
   "outputs": [
    {
     "name": "stdout",
     "output_type": "stream",
     "text": [
      "Probability of randomly selecting a BMW: 0.16\n"
     ]
    }
   ],
   "source": [
    "# Probability of randomly selecting a BMW\n",
    "probability_bmw = bmw_cars / total_cars\n",
    "print(\"Probability of randomly selecting a BMW:\", probability_bmw)"
   ]
  },
  {
   "cell_type": "markdown",
   "id": "ab6f855a",
   "metadata": {},
   "source": [
    " "
   ]
  },
  {
   "cell_type": "markdown",
   "id": "88bbda5d",
   "metadata": {},
   "source": [
    "6. What is the probability that a randomly selected car will be an Audi?"
   ]
  },
  {
   "cell_type": "code",
   "execution_count": 19,
   "id": "25e89cb6",
   "metadata": {},
   "outputs": [],
   "source": [
    "#Filter the total no. of AUDI cars\n",
    "audi_cars = car[car['Make'] == 'Audi'].shape[0]"
   ]
  },
  {
   "cell_type": "code",
   "execution_count": 20,
   "id": "51c968e4",
   "metadata": {},
   "outputs": [
    {
     "name": "stdout",
     "output_type": "stream",
     "text": [
      "Probability of randomly selecting a AUDI: 0.12\n"
     ]
    }
   ],
   "source": [
    "# Probability of randomly selecting a AUDI\n",
    "probability_audi = audi_cars / total_cars\n",
    "print(\"Probability of randomly selecting a AUDI:\", probability_audi)"
   ]
  },
  {
   "cell_type": "markdown",
   "id": "dd4d1ea2",
   "metadata": {},
   "source": [
    "  "
   ]
  },
  {
   "cell_type": "markdown",
   "id": "6dd69b3f",
   "metadata": {},
   "source": [
    "7. Form the null and alternate hypothesis to test whether the price of Gas cars is significantly different from that of Diesel Cars"
   ]
  },
  {
   "cell_type": "code",
   "execution_count": 21,
   "id": "9e5cf31e",
   "metadata": {},
   "outputs": [],
   "source": [
    "from scipy import stats"
   ]
  },
  {
   "cell_type": "code",
   "execution_count": 22,
   "id": "676202e7",
   "metadata": {},
   "outputs": [],
   "source": [
    "# Split the dataset into Gas and Diesel cars\n",
    "gas_prices = car[car['Fuel Type'] == 'Gas']['Price']\n",
    "diesel_prices = car[car['Fuel Type'] == 'Diesel']['Price']"
   ]
  },
  {
   "cell_type": "code",
   "execution_count": 42,
   "id": "1a985a79",
   "metadata": {},
   "outputs": [],
   "source": [
    "# Perform a two-sample t-test\n",
    "t_stat, p_value = stats.ttest_ind(gas_prices, diesel_prices)"
   ]
  },
  {
   "cell_type": "code",
   "execution_count": 49,
   "id": "8f826674",
   "metadata": {},
   "outputs": [
    {
     "data": {
      "text/plain": [
       "(1.1236308256408953, 0.27276131360711153)"
      ]
     },
     "execution_count": 49,
     "metadata": {},
     "output_type": "execute_result"
    }
   ],
   "source": [
    "t_stat, p_value"
   ]
  },
  {
   "cell_type": "markdown",
   "id": "b5e55e16",
   "metadata": {},
   "source": [
    " "
   ]
  },
  {
   "cell_type": "markdown",
   "id": "5de9a191",
   "metadata": {},
   "source": [
    "8.  Form the null and alternate hypothesis and find the p-value.At 0.05 level of significance, is the price of gas cars significantly different from that of diesel cars?"
   ]
  },
  {
   "cell_type": "code",
   "execution_count": 26,
   "id": "783c59ac",
   "metadata": {},
   "outputs": [],
   "source": [
    "gas_prices = car[car['Fuel Type'] == 'Gas']['Price']\n",
    "diesel_prices = car[car['Fuel Type'] == 'Diesel']['Price']"
   ]
  },
  {
   "cell_type": "code",
   "execution_count": 27,
   "id": "7b8d7371",
   "metadata": {},
   "outputs": [],
   "source": [
    "t_stat, p_value = stats.ttest_ind(gas_prices, diesel_prices)"
   ]
  },
  {
   "cell_type": "code",
   "execution_count": 48,
   "id": "73a4f5aa",
   "metadata": {},
   "outputs": [
    {
     "name": "stdout",
     "output_type": "stream",
     "text": [
      "Null Hypothesis (H0): The mean price of gas cars is equal to the mean price of diesel cars.\n",
      "Alternative Hypothesis (H1): The mean price of gas cars is different from the mean price of diesel cars.\n",
      "\n",
      "t-statistic: 1.1236\n",
      "p-value: 0.2728\n"
     ]
    }
   ],
   "source": [
    "print(\"Null Hypothesis (H0): The mean price of gas cars is equal to the mean price of diesel cars.\")\n",
    "print(\"Alternative Hypothesis (H1): The mean price of gas cars is different from the mean price of diesel cars.\")\n",
    "print(f\"\\nt-statistic: {t_stat:.4f}\")\n",
    "print(f\"p-value: {p_value:.4f}\")"
   ]
  },
  {
   "cell_type": "code",
   "execution_count": 51,
   "id": "7adac8ef",
   "metadata": {},
   "outputs": [
    {
     "name": "stdout",
     "output_type": "stream",
     "text": [
      "\n",
      "At 0.05 level of significance, we fail to reject the null hypothesis.\n",
      "There is not enough evidence to conclude that the price of gas cars is significantly different from that of diesel cars.\n"
     ]
    }
   ],
   "source": [
    "# Check if the result is significant at 0.05 level\n",
    "alpha = 0.05\n",
    "if p_value < alpha:\n",
    "    print(f\"\\nAt {alpha} level of significance, we reject the null hypothesis.\")\n",
    "    print(\"The price of gas cars is significantly different from that of diesel cars.\")\n",
    "else:\n",
    "    print(f\"\\nAt {alpha} level of significance, we fail to reject the null hypothesis.\")\n",
    "    print(\"There is not enough evidence to conclude that the price of gas cars is significantly different from that of diesel cars.\")"
   ]
  },
  {
   "cell_type": "code",
   "execution_count": 56,
   "id": "68436d19",
   "metadata": {},
   "outputs": [
    {
     "data": {
      "image/png": "[encoded data removed]",
      "text/plain": [
       "<Figure size 1000x600 with 1 Axes>"
      ]
     },
     "metadata": {},
     "output_type": "display_data"
    }
   ],
   "source": [
    "# Calculate mean prices\n",
    "mean_gas_price = gas_prices.mean()\n",
    "mean_diesel_price = diesel_prices.mean()\n",
    "\n",
    "# Bar plot for mean prices of gas vs diesel cars\n",
    "plt.figure(figsize=(10, 6))\n",
    "plt.bar(['Gas Cars', 'Diesel Cars'], [mean_gas_price, mean_diesel_price], color=['skyblue', 'lightgreen'])\n",
    "plt.title('Mean Prices of Gas vs Diesel Cars')\n",
    "plt.ylabel('Price ($)')\n",
    "plt.ylim(0, max(mean_gas_price, mean_diesel_price) * 1.1)  # Set y-axis limit with some padding\n",
    "plt.text(0, mean_gas_price, f'${mean_gas_price:.2f}', ha='center', va='bottom')\n",
    "plt.text(1, mean_diesel_price, f'${mean_diesel_price:.2f}', ha='center', va='bottom')\n",
    "plt.tight_layout()\n",
    "plt.show()"
   ]
  },
  {
   "cell_type": "markdown",
   "id": "230cea19",
   "metadata": {},
   "source": [
    " "
   ]
  },
  {
   "cell_type": "markdown",
   "id": "d449f9b6",
   "metadata": {},
   "source": [
    "9. . Suppose you randomly select a car from this dataset. What is the probability that it is a 'Luxury Car' ?\n",
    " ( consider BMW, Mercedes and Audi as a luxary car under the column Make )"
   ]
  },
  {
   "cell_type": "code",
   "execution_count": 57,
   "id": "6146c934",
   "metadata": {},
   "outputs": [],
   "source": [
    "#List of Luxury car brands\n",
    "luxury_brands = ['BMW', 'Mercedes', 'Audi']"
   ]
  },
  {
   "cell_type": "code",
   "execution_count": 58,
   "id": "3da14f74",
   "metadata": {},
   "outputs": [],
   "source": [
    "#Filter the total no. of luxury cars\n",
    "luxury_cars = car[car['Make'].isin(luxury_brands)].shape[0]"
   ]
  },
  {
   "cell_type": "code",
   "execution_count": 59,
   "id": "f4ecde12",
   "metadata": {},
   "outputs": [
    {
     "name": "stdout",
     "output_type": "stream",
     "text": [
      "Probability of randomly selecting a luxury car: 0.4\n"
     ]
    }
   ],
   "source": [
    "# Probability of randomly selecting a Luxury cars\n",
    "probability_luxury_car = luxury_cars / total_cars\n",
    "print(\"Probability of randomly selecting a luxury car:\", probability_luxury_car)"
   ]
  },
  {
   "cell_type": "markdown",
   "id": "39558649",
   "metadata": {},
   "source": [
    "10. You want to select a subset of three unique cars from the dataset to participate in a race. How many different ways can you arrange the cars in the race, considering their 'Make' as the criteria?"
   ]
  },
  {
   "cell_type": "code",
   "execution_count": 60,
   "id": "39c9abca",
   "metadata": {},
   "outputs": [],
   "source": [
    "# Import factorial function to calculate permutations\n",
    "from math import factorial"
   ]
  },
  {
   "cell_type": "code",
   "execution_count": 61,
   "id": "ee56ae72",
   "metadata": {},
   "outputs": [],
   "source": [
    "# Extract unique makes\n",
    "unique_makes = car['Make'].unique()\n",
    "n = len(unique_makes)\n",
    "k = 3"
   ]
  },
  {
   "cell_type": "code",
   "execution_count": 62,
   "id": "fbeba2f6",
   "metadata": {},
   "outputs": [
    {
     "name": "stdout",
     "output_type": "stream",
     "text": [
      "The number of different ways to arrange three unique cars based on their 'Make' is 720\n"
     ]
    }
   ],
   "source": [
    "# Calculate permutations according the formula \" p(n,k) = n! / (n-k!) \"\n",
    "permutation = factorial(n) // factorial(n-k)\n",
    "print(f\"The number of different ways to arrange three unique cars based on their 'Make' is {permutation}\")"
   ]
  },
  {
   "cell_type": "markdown",
   "id": "2ed61342",
   "metadata": {},
   "source": [
    " "
   ]
  },
  {
   "cell_type": "markdown",
   "id": "6cabf75f",
   "metadata": {},
   "source": [
    "11. If you randomly pick a car with 8 cylinders, what is the probability that BMW?"
   ]
  },
  {
   "cell_type": "code",
   "execution_count": 63,
   "id": "e5720075",
   "metadata": {},
   "outputs": [],
   "source": [
    "#Filter and total number of car with \"Eight\" cylinders\n",
    "eight_cylinder_cars = car[car['Number of Cylinders'] == 'Eight']\n",
    "total_eight_cylinder_car = eight_cylinder_cars.shape[0]"
   ]
  },
  {
   "cell_type": "code",
   "execution_count": 64,
   "id": "11d805a1",
   "metadata": {},
   "outputs": [],
   "source": [
    "#filter and total number of BMW car with \"Eight\" cylinder\n",
    "eight_cylinder_BMW = eight_cylinder_cars[eight_cylinder_cars['Make'] == 'BMW'].shape[0]"
   ]
  },
  {
   "cell_type": "code",
   "execution_count": 65,
   "id": "495a3e6f",
   "metadata": {},
   "outputs": [
    {
     "name": "stdout",
     "output_type": "stream",
     "text": [
      "The probability that a randomly selected car with 8 cylinders is a BMW is 0.4\n"
     ]
    }
   ],
   "source": [
    "#Calculate the probability\n",
    "probability_eight_cylinder_BMW = eight_cylinder_BMW / total_eight_cylinder_car\n",
    "print( f\"The probability that a randomly selected car with 8 cylinders is a BMW is {probability_eight_cylinder_BMW}\")"
   ]
  },
  {
   "cell_type": "markdown",
   "id": "e0f187fc",
   "metadata": {},
   "source": [
    " "
   ]
  },
  {
   "cell_type": "markdown",
   "id": "30069135",
   "metadata": {},
   "source": [
    "12. You are conducting a random survey by selecting 7 cars from the dataset. Calculate the probability that exactly 3 out of the 7 selected cars have 'Turbo' aspiration."
   ]
  },
  {
   "cell_type": "code",
   "execution_count": 66,
   "id": "7dc5d7e8",
   "metadata": {},
   "outputs": [],
   "source": [
    "from scipy.stats import binom"
   ]
  },
  {
   "cell_type": "code",
   "execution_count": 67,
   "id": "1838dbe2",
   "metadata": {},
   "outputs": [],
   "source": [
    "total_cars = len(car)\n",
    "turbo_cars = len(car[car['Aspiration'] == 'Turbo'])\n",
    "p_turbo = turbo_cars / total_cars"
   ]
  },
  {
   "cell_type": "code",
   "execution_count": 68,
   "id": "5099b8c6",
   "metadata": {},
   "outputs": [],
   "source": [
    "n = 7  # number of cars selected\n",
    "k = 3  # number of 'Turbo' cars we want\n",
    "probability = binom.pmf(k, n, p_turbo)"
   ]
  },
  {
   "cell_type": "code",
   "execution_count": 69,
   "id": "e5f83600",
   "metadata": {},
   "outputs": [
    {
     "name": "stdout",
     "output_type": "stream",
     "text": [
      "Probability of selecting exactly 3 'Turbo' cars out of 7: 0.2932\n"
     ]
    }
   ],
   "source": [
    "print(f\"Probability of selecting exactly 3 'Turbo' cars out of 7: {probability:.4f}\")"
   ]
  },
  {
   "cell_type": "markdown",
   "id": "33952c63",
   "metadata": {
    "scrolled": true
   },
   "source": [
    " "
   ]
  },
  {
   "cell_type": "markdown",
   "id": "10722858",
   "metadata": {},
   "source": [
    "   "
   ]
  },
  {
   "cell_type": "markdown",
   "id": "c9a25da1",
   "metadata": {},
   "source": [
    "  "
   ]
  },
  {
   "cell_type": "markdown",
   "id": "a364dfae",
   "metadata": {},
   "source": [
    "   "
   ]
  },
  {
   "cell_type": "markdown",
   "id": "27e546f3",
   "metadata": {},
   "source": [
    "Aman Choudhary\n",
    "\n",
    "Linkedin: https://www.linkedin.com/in/aman-choudhary-61a9361a0/\n",
    "\n",
    "Email: amanchoudhary11189.ac@gmail.com"
   ]
  },
  {
   "cell_type": "code",
   "execution_count": null,
   "id": "0e92c3ef",
   "metadata": {},
   "outputs": [],
   "source": []
  }
 ],
 "metadata": {
  "kernelspec": {
   "display_name": "Python 3 (ipykernel)",
   "language": "python",
   "name": "python3"
  },
  "language_info": {
   "codemirror_mode": {
    "name": "ipython",
    "version": 3
   },
   "file_extension": ".py",
   "mimetype": "text/x-python",
   "name": "python",
   "nbconvert_exporter": "python",
   "pygments_lexer": "ipython3",
   "version": "3.11.3"
  }
 },
 "nbformat": 4,
 "nbformat_minor": 5
}
